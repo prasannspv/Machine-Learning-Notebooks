{
 "cells": [
  {
   "cell_type": "code",
   "execution_count": 1,
   "metadata": {},
   "outputs": [],
   "source": [
    "from sklearn import tree\n",
    "import pandas as pd\n",
    "from sklearn import model_selection\n",
    "import matplotlib.pyplot as plt\n",
    "import graphviz"
   ]
  },
  {
   "cell_type": "markdown",
   "metadata": {},
   "source": [
    "## Build a Decision Tree Classifier\n",
    "\n",
    "The following method accepts a few model and hyper-parameter values and returns a decision tree."
   ]
  },
  {
   "cell_type": "code",
   "execution_count": 2,
   "metadata": {},
   "outputs": [],
   "source": [
    "def dt_train(X, y, **kwargs):\n",
    "    max_depth = kwargs.get('max_depth', 10)\n",
    "    random_state = kwargs.get('random_state',7)\n",
    "    criterion = kwargs.get('criterion', 'gini')\n",
    "    min_samples_leaf = kwargs.get('min_samples_leaf', 1.0)\n",
    "    \n",
    "    dt = tree.DecisionTreeClassifier(max_depth=max_depth, random_state=random_state)\n",
    "    dt.fit(X, y)\n",
    "    return dt"
   ]
  },
  {
   "cell_type": "markdown",
   "metadata": {},
   "source": [
    "The following method accepts a decision tree classification model and perform post pruning"
   ]
  },
  {
   "cell_type": "code",
   "execution_count": 3,
   "metadata": {},
   "outputs": [],
   "source": [
    "def prune(dt, X, y):\n",
    "    path = dt.cost_complexity_pruning_path(X, y)\n",
    "    return path"
   ]
  },
  {
   "cell_type": "markdown",
   "metadata": {},
   "source": [
    "## Utilities for analysis\n",
    "\n",
    "The following method builds a validation curve for a decision tree classification model based on a set of model and hyperparameter values. "
   ]
  },
  {
   "cell_type": "code",
   "execution_count": 4,
   "metadata": {},
   "outputs": [],
   "source": [
    "def plot_validation_curve(dt, X, y, param_name, param_range, cross_validation, fig_name):\n",
    "    tr_sc, tst_sc = model_selection.validation_curve(clf_dt, X, y, param_name=param_name,\n",
    "                                                            param_range=param_range, cv=cross_validation)\n",
    "    plt.figure()\n",
    "    plt.xticks(param_range)\n",
    "    \n",
    "    plt.xlabel(param_name)\n",
    "    plt.ylabel(\"Score\")\n",
    "    plt.legend(loc=\"best\")\n",
    "    \n",
    "    plt.plot(param_range, np.mean(tr_sc, axis=1), label='Training score')\n",
    "    plt.plot(param_range, np.mean(tst_sc, axis=1), label='Cross-validation score')\n",
    "    plt.title('Decision Tree - Validation Curve')\n",
    "    \n",
    "    plt.savefig(fig_name)\n",
    "    plt.show()\n"
   ]
  },
  {
   "cell_type": "markdown",
   "metadata": {},
   "source": [
    "Get classification score"
   ]
  },
  {
   "cell_type": "code",
   "execution_count": 5,
   "metadata": {},
   "outputs": [],
   "source": [
    "def get_classification_score(dt, X, y):\n",
    "    return dt.score(X, y)"
   ]
  },
  {
   "cell_type": "markdown",
   "metadata": {},
   "source": [
    "The following function provides a visual representation for the decision tree"
   ]
  },
  {
   "cell_type": "code",
   "execution_count": 6,
   "metadata": {},
   "outputs": [],
   "source": [
    "def visualize_dt(dt, feature_names, target_names, file_name):\n",
    "    exp_tree = tree.export_graphviz(dt, out_file=file_name, \n",
    "                      feature_names=feature_names,  \n",
    "                      class_names=target_names,  \n",
    "                      filled=True, rounded=True,  \n",
    "                      special_characters=True)\n",
    "    graphviz.source(exp_tree)\n",
    "    "
   ]
  },
  {
   "cell_type": "markdown",
   "metadata": {},
   "source": [
    "## Bank Marketing Data Analysis\n",
    "The data is related with direct marketing campaigns (phone calls) of a Portuguese banking institution. The classification goal is to predict if the client will subscribe a term deposit (variable y)"
   ]
  },
  {
   "cell_type": "code",
   "execution_count": null,
   "metadata": {},
   "outputs": [],
   "source": []
  }
 ],
 "metadata": {
  "kernelspec": {
   "display_name": "Python 3",
   "language": "python",
   "name": "python3"
  },
  "language_info": {
   "codemirror_mode": {
    "name": "ipython",
    "version": 3
   },
   "file_extension": ".py",
   "mimetype": "text/x-python",
   "name": "python",
   "nbconvert_exporter": "python",
   "pygments_lexer": "ipython3",
   "version": "3.7.7"
  }
 },
 "nbformat": 4,
 "nbformat_minor": 4
}
