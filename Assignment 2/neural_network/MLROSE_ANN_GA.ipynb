{
  "nbformat": 4,
  "nbformat_minor": 0,
  "metadata": {
    "colab": {
      "name": "MLROSE-ANN-GA.ipynb",
      "provenance": [],
      "collapsed_sections": []
    },
    "kernelspec": {
      "name": "python3",
      "display_name": "Python 3"
    }
  },
  "cells": [
    {
      "cell_type": "code",
      "metadata": {
        "id": "O5Io61kC5QrX",
        "outputId": "b87a8809-e9a2-411e-8516-9315515c4238",
        "colab": {
          "base_uri": "https://localhost:8080/",
          "height": 373
        }
      },
      "source": [
        "!pip install mlrose-hiive"
      ],
      "execution_count": null,
      "outputs": [
        {
          "output_type": "stream",
          "text": [
            "Collecting mlrose-hiive\n",
            "\u001b[?25l  Downloading https://files.pythonhosted.org/packages/e3/ba/75f9e6b421a8a7fc1bb91ee72d5ae27fe381828d8df7fc0869654b295729/mlrose_hiive-2.1.3.tar.gz (48kB)\n",
            "\r\u001b[K     |██████▊                         | 10kB 14.1MB/s eta 0:00:01\r\u001b[K     |█████████████▌                  | 20kB 1.7MB/s eta 0:00:01\r\u001b[K     |████████████████████▎           | 30kB 2.5MB/s eta 0:00:01\r\u001b[K     |███████████████████████████     | 40kB 3.2MB/s eta 0:00:01\r\u001b[K     |████████████████████████████████| 51kB 1.4MB/s \n",
            "\u001b[?25hRequirement already satisfied: numpy in /usr/local/lib/python3.6/dist-packages (from mlrose-hiive) (1.18.5)\n",
            "Requirement already satisfied: scipy in /usr/local/lib/python3.6/dist-packages (from mlrose-hiive) (1.4.1)\n",
            "Requirement already satisfied: scikit-learn in /usr/local/lib/python3.6/dist-packages (from mlrose-hiive) (0.22.2.post1)\n",
            "Requirement already satisfied: pandas in /usr/local/lib/python3.6/dist-packages (from mlrose-hiive) (1.1.2)\n",
            "Requirement already satisfied: networkx in /usr/local/lib/python3.6/dist-packages (from mlrose-hiive) (2.5)\n",
            "Requirement already satisfied: joblib in /usr/local/lib/python3.6/dist-packages (from mlrose-hiive) (0.16.0)\n",
            "Requirement already satisfied: pytz>=2017.2 in /usr/local/lib/python3.6/dist-packages (from pandas->mlrose-hiive) (2018.9)\n",
            "Requirement already satisfied: python-dateutil>=2.7.3 in /usr/local/lib/python3.6/dist-packages (from pandas->mlrose-hiive) (2.8.1)\n",
            "Requirement already satisfied: decorator>=4.3.0 in /usr/local/lib/python3.6/dist-packages (from networkx->mlrose-hiive) (4.4.2)\n",
            "Requirement already satisfied: six>=1.5 in /usr/local/lib/python3.6/dist-packages (from python-dateutil>=2.7.3->pandas->mlrose-hiive) (1.15.0)\n",
            "Building wheels for collected packages: mlrose-hiive\n",
            "  Building wheel for mlrose-hiive (setup.py) ... \u001b[?25l\u001b[?25hdone\n",
            "  Created wheel for mlrose-hiive: filename=mlrose_hiive-2.1.3-cp36-none-any.whl size=96601 sha256=10266ac1de6f5c2169819b3b0585078abc6cb56b3b22630f14c89f490c217007\n",
            "  Stored in directory: /root/.cache/pip/wheels/ee/ef/8b/941402c2014649279f68a1ed4a37b4d15142dfb9c7e4a6b7ac\n",
            "Successfully built mlrose-hiive\n",
            "Installing collected packages: mlrose-hiive\n",
            "Successfully installed mlrose-hiive-2.1.3\n"
          ],
          "name": "stdout"
        }
      ]
    },
    {
      "cell_type": "code",
      "metadata": {
        "id": "49K0agNYCR53"
      },
      "source": [
        "from mlrose_hiive import NeuralNetwork\n",
        "from sklearn.metrics import accuracy_score\n",
        "import csv\n",
        "import pandas as pd\n",
        "import time"
      ],
      "execution_count": null,
      "outputs": []
    },
    {
      "cell_type": "code",
      "metadata": {
        "id": "9ZoW97s4Cllv"
      },
      "source": [
        "def run_neural_network_ga(X_train, y_train, X_test, y_test):\n",
        "  hidden_nodes = [100, 50, 100]\n",
        "  acc_pop = []\n",
        "  acc_pop_t = []\n",
        "  for initial_pop in [50, 100, 200, 500]:\n",
        "    print(\"Init Pop\", initial_pop)\n",
        "    start = time.time()\n",
        "    model = NeuralNetwork(hidden_nodes=hidden_nodes, pop_size=initial_pop, algorithm='genetic_alg', early_stopping=True)\n",
        "    model.fit(X_train, y_train)\n",
        "    end = time.time()\n",
        "    acc_pop_t.append([initial_pop, end-start])\n",
        "    y_act = model.predict(X_test)\n",
        "    acc_pop.append([initial_pop, accuracy_score(y_act, y_test)])\n",
        "    print(acc_pop)\n",
        "\n",
        "  with open(\"GA_POP.csv\", \"w+\") as f:\n",
        "    csv.writer(f).writerows(acc_pop)\n",
        "  with open(\"GA_POP_time.csv\", \"w+\") as f:\n",
        "    csv.writer(f).writerows(acc_pop_t)\n",
        "\n",
        "  acc_mp = []\n",
        "  acc_mp_t = []\n",
        "  for mp in [0.1, 0.2, 0.3, 0.4, 0.5]:\n",
        "    print(\"MP\", mp)\n",
        "    start = time.time()\n",
        "    model = NeuralNetwork(hidden_nodes=hidden_nodes, algorithm='genetic_alg', mutation_prob=mp, early_stopping=True)\n",
        "    model.fit(X_train, y_train)\n",
        "    end = time.time()\n",
        "    y_act = model.predict(X_test)\n",
        "    acc_mp.append([initial_pop, accuracy_score(y_act, y_test)])\n",
        "    acc_mp_t.append([initial_pop, end-start])\n",
        "    print(acc_mp)\n",
        "\n",
        "  with open(\"GA_MP.csv\", \"w+\") as f:\n",
        "    csv.writer(f).writerows(acc_mp)\n",
        "\n",
        "  with open(\"GA_MP_Time.csv\", \"w+\") as f:\n",
        "    csv.writer(f).writerows(acc_mp_t)\n"
      ],
      "execution_count": 26,
      "outputs": []
    },
    {
      "cell_type": "code",
      "metadata": {
        "id": "cQJP6XAHH2Gb",
        "outputId": "c2ebbd7e-5f5e-4aac-cd01-eecbb130e219",
        "colab": {
          "base_uri": "https://localhost:8080/",
          "height": 319
        }
      },
      "source": [
        "from scipy.io.arff import loadarff \n",
        "from sklearn.model_selection import train_test_split\n",
        "\n",
        "raw_data = loadarff('Training Dataset.arff')\n",
        "ph_data = pd.DataFrame(raw_data[0])\n",
        "\n",
        "for var in ph_data.columns.values:\n",
        "    ph_data[var] = pd.Categorical(ph_data[var])\n",
        "    ph_data[var] = ph_data[var].cat.codes\n",
        "\n",
        "\n",
        "y = ph_data.Result.values\n",
        "X = ph_data.drop(['Result'], axis=1)\n",
        "\n",
        "\n",
        "X_train, X_test, y_train, y_test = train_test_split(X, y, test_size=0.20, random_state=7)\n",
        "\n",
        "run_neural_network_ga(X_train, y_train, X_test, y_test)"
      ],
      "execution_count": 27,
      "outputs": [
        {
          "output_type": "stream",
          "text": [
            "Init Pop 50\n",
            "[[50, 0.7630031659882406]]\n",
            "Init Pop 100\n",
            "[[50, 0.7630031659882406], [100, 0.8267752148349163]]\n",
            "Init Pop 200\n",
            "[[50, 0.7630031659882406], [100, 0.8267752148349163], [200, 0.7892356399819086]]\n",
            "Init Pop 500\n",
            "[[50, 0.7630031659882406], [100, 0.8267752148349163], [200, 0.7892356399819086], [500, 0.824966078697422]]\n",
            "MP 0.1\n",
            "[[500, 0.8059701492537313]]\n",
            "MP 0.2\n",
            "[[500, 0.8059701492537313], [500, 0.7810945273631841]]\n",
            "MP 0.3\n",
            "[[500, 0.8059701492537313], [500, 0.7810945273631841], [500, 0.8059701492537313]]\n",
            "MP 0.4\n",
            "[[500, 0.8059701492537313], [500, 0.7810945273631841], [500, 0.8059701492537313], [500, 0.7851650836725463]]\n",
            "MP 0.5\n",
            "[[500, 0.8059701492537313], [500, 0.7810945273631841], [500, 0.8059701492537313], [500, 0.7851650836725463], [500, 0.8186341022161918]]\n"
          ],
          "name": "stdout"
        }
      ]
    }
  ]
}