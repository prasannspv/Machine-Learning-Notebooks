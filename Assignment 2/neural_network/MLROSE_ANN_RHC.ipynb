{
 "cells": [
  {
   "cell_type": "code",
   "execution_count": 1,
   "metadata": {
    "id": "5c2lkCr9Ks7w"
   },
   "outputs": [],
   "source": [
    "from mlrose_hiive import NeuralNetwork\n",
    "from sklearn.metrics import accuracy_score\n",
    "import csv\n",
    "import pandas as pd\n",
    "import time"
   ]
  },
  {
   "cell_type": "code",
   "execution_count": 5,
   "metadata": {
    "id": "K7V8ILvFKtZ0"
   },
   "outputs": [],
   "source": [
    "def run_neural_network_rhc(X_train, y_train, X_test, y_test):\n",
    "  hidden_nodes = [100, 50, 100]\n",
    "  acc_pop = []\n",
    "  acc_pop_t = []\n",
    "  for restart in [0, 3, 5, 7, 10]:\n",
    "    print(\"REST\", restart)\n",
    "    start = time.time()\n",
    "    model = NeuralNetwork(hidden_nodes=hidden_nodes, restarts=restart, algorithm='random_hill_climb'\n",
    "                          , max_iters=10000, early_stopping=True)\n",
    "    model.fit(X_train, y_train)\n",
    "    end = time.time()\n",
    "    acc_pop_t.append([restart, end-start])\n",
    "    y_act = model.predict(X_test)\n",
    "    acc_pop.append([restart, accuracy_score(y_act, y_test)])\n",
    "    print(acc_pop)\n",
    "\n",
    "  with open(\"RHC_REST.csv\", \"w+\") as f:\n",
    "    csv.writer(f).writerows(acc_pop)\n",
    "  with open(\"RHC_REST_time.csv\", \"w+\") as f:\n",
    "    csv.writer(f).writerows(acc_pop_t)\n",
    "\n"
   ]
  },
  {
   "cell_type": "code",
   "execution_count": 6,
   "metadata": {
    "colab": {
     "base_uri": "https://localhost:8080/",
     "height": 67
    },
    "id": "B4g5wDTFMP-1",
    "outputId": "99155473-a529-41c2-d93d-1b4ba841f855"
   },
   "outputs": [
    {
     "name": "stdout",
     "output_type": "stream",
     "text": [
      "REST 0\n",
      "[[0, 0.6006331976481231]]\n",
      "REST 3\n",
      "[[0, 0.6006331976481231], [3, 0.45092718227046585]]\n",
      "REST 5\n",
      "[[0, 0.6006331976481231], [3, 0.45092718227046585], [5, 0.44052464947987335]]\n",
      "REST 7\n",
      "[[0, 0.6006331976481231], [3, 0.45092718227046585], [5, 0.44052464947987335], [7, 0.7643600180913613]]\n",
      "REST 10\n",
      "[[0, 0.6006331976481231], [3, 0.45092718227046585], [5, 0.44052464947987335], [7, 0.7643600180913613], [10, 0.8611488014473089]]\n"
     ]
    }
   ],
   "source": [
    "from scipy.io.arff import loadarff \n",
    "from sklearn.model_selection import train_test_split\n",
    "\n",
    "raw_data = loadarff('Training Dataset.arff')\n",
    "ph_data = pd.DataFrame(raw_data[0])\n",
    "\n",
    "for var in ph_data.columns.values:\n",
    "    ph_data[var] = pd.Categorical(ph_data[var])\n",
    "    ph_data[var] = ph_data[var].cat.codes\n",
    "\n",
    "\n",
    "y = ph_data.Result.values\n",
    "X = ph_data.drop(['Result'], axis=1)\n",
    "\n",
    "\n",
    "X_train, X_test, y_train, y_test = train_test_split(X, y, test_size=0.20, random_state=7)\n",
    "\n",
    "run_neural_network_rhc(X_train, y_train, X_test, y_test)"
   ]
  }
 ],
 "metadata": {
  "colab": {
   "name": "MLROSE-ANN-RHC.ipynb",
   "provenance": []
  },
  "kernelspec": {
   "display_name": "Python 3",
   "language": "python",
   "name": "python3"
  },
  "language_info": {
   "codemirror_mode": {
    "name": "ipython",
    "version": 3
   },
   "file_extension": ".py",
   "mimetype": "text/x-python",
   "name": "python",
   "nbconvert_exporter": "python",
   "pygments_lexer": "ipython3",
   "version": "3.7.7"
  }
 },
 "nbformat": 4,
 "nbformat_minor": 1
}
