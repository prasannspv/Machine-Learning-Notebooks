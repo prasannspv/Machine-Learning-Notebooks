{
 "cells": [
  {
   "cell_type": "code",
   "execution_count": 1,
   "metadata": {},
   "outputs": [],
   "source": [
    "from mlrose_hiive import NeuralNetwork\n",
    "from sklearn.metrics import accuracy_score\n",
    "import csv\n",
    "import pandas as pd\n",
    "import time"
   ]
  },
  {
   "cell_type": "code",
   "execution_count": 4,
   "metadata": {},
   "outputs": [],
   "source": [
    "def run_neural_network_gd(X_train, y_train, X_test, y_test):\n",
    "    hidden_nodes = [100, 50, 100]\n",
    "    acc_pop = []\n",
    "    acc_pop_t = []\n",
    "    start = time.time()\n",
    "    model = NeuralNetwork(hidden_nodes=hidden_nodes, algorithm='gradient_descent'\n",
    "                          , max_iters=10000, early_stopping=True)\n",
    "    model.fit(X_train, y_train)\n",
    "    end = time.time()\n",
    "    acc_pop_t.append(['Default', end-start])\n",
    "    y_act = model.predict(X_test)\n",
    "    acc_pop.append(['Default', accuracy_score(y_act, y_test)])\n",
    "    print(acc_pop)\n",
    "\n",
    "    with open(\"GD.csv\", \"w+\") as f:\n",
    "        csv.writer(f).writerows(acc_pop)\n",
    "    with open(\"GD_time.csv\", \"w+\") as f:\n",
    "        csv.writer(f).writerows(acc_pop_t)\n"
   ]
  },
  {
   "cell_type": "code",
   "execution_count": 6,
   "metadata": {},
   "outputs": [
    {
     "name": "stdout",
     "output_type": "stream",
     "text": [
      "[['Default', 0.44052464947987335]]\n"
     ]
    }
   ],
   "source": [
    "from scipy.io.arff import loadarff \n",
    "from sklearn.model_selection import train_test_split\n",
    "\n",
    "raw_data = loadarff('Training Dataset.arff')\n",
    "ph_data = pd.DataFrame(raw_data[0])\n",
    "\n",
    "for var in ph_data.columns.values:\n",
    "    ph_data[var] = pd.Categorical(ph_data[var])\n",
    "    ph_data[var] = ph_data[var].cat.codes\n",
    "\n",
    "\n",
    "y = ph_data.Result.values\n",
    "X = ph_data.drop(['Result'], axis=1)\n",
    "\n",
    "\n",
    "X_train, X_test, y_train, y_test = train_test_split(X, y, test_size=0.20, random_state=7)\n",
    "\n",
    "run_neural_network_gd(X_train, y_train, X_test, y_test)"
   ]
  }
 ],
 "metadata": {
  "kernelspec": {
   "display_name": "Python 3",
   "language": "python",
   "name": "python3"
  },
  "language_info": {
   "codemirror_mode": {
    "name": "ipython",
    "version": 3
   },
   "file_extension": ".py",
   "mimetype": "text/x-python",
   "name": "python",
   "nbconvert_exporter": "python",
   "pygments_lexer": "ipython3",
   "version": "3.7.7"
  }
 },
 "nbformat": 4,
 "nbformat_minor": 4
}
