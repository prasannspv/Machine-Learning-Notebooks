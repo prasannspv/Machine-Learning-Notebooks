{
  "nbformat": 4,
  "nbformat_minor": 0,
  "metadata": {
    "colab": {
      "name": "MLROSE_ANN_SA.ipynb",
      "provenance": []
    },
    "kernelspec": {
      "name": "python3",
      "display_name": "Python 3"
    }
  },
  "cells": [
    {
      "cell_type": "code",
      "metadata": {
        "id": "p0O7oRBonk0X",
        "outputId": "3014a0d5-4971-41ae-f5cb-04eb0e2791e6",
        "colab": {
          "base_uri": "https://localhost:8080/",
          "height": 373
        }
      },
      "source": [
        "!pip install mlrose-hiive"
      ],
      "execution_count": 1,
      "outputs": [
        {
          "output_type": "stream",
          "text": [
            "Collecting mlrose-hiive\n",
            "\u001b[?25l  Downloading https://files.pythonhosted.org/packages/e3/ba/75f9e6b421a8a7fc1bb91ee72d5ae27fe381828d8df7fc0869654b295729/mlrose_hiive-2.1.3.tar.gz (48kB)\n",
            "\r\u001b[K     |██████▊                         | 10kB 15.8MB/s eta 0:00:01\r\u001b[K     |█████████████▌                  | 20kB 1.6MB/s eta 0:00:01\r\u001b[K     |████████████████████▎           | 30kB 2.1MB/s eta 0:00:01\r\u001b[K     |███████████████████████████     | 40kB 2.4MB/s eta 0:00:01\r\u001b[K     |████████████████████████████████| 51kB 1.6MB/s \n",
            "\u001b[?25hRequirement already satisfied: numpy in /usr/local/lib/python3.6/dist-packages (from mlrose-hiive) (1.18.5)\n",
            "Requirement already satisfied: scipy in /usr/local/lib/python3.6/dist-packages (from mlrose-hiive) (1.4.1)\n",
            "Requirement already satisfied: scikit-learn in /usr/local/lib/python3.6/dist-packages (from mlrose-hiive) (0.22.2.post1)\n",
            "Requirement already satisfied: pandas in /usr/local/lib/python3.6/dist-packages (from mlrose-hiive) (1.1.2)\n",
            "Requirement already satisfied: networkx in /usr/local/lib/python3.6/dist-packages (from mlrose-hiive) (2.5)\n",
            "Requirement already satisfied: joblib in /usr/local/lib/python3.6/dist-packages (from mlrose-hiive) (0.16.0)\n",
            "Requirement already satisfied: python-dateutil>=2.7.3 in /usr/local/lib/python3.6/dist-packages (from pandas->mlrose-hiive) (2.8.1)\n",
            "Requirement already satisfied: pytz>=2017.2 in /usr/local/lib/python3.6/dist-packages (from pandas->mlrose-hiive) (2018.9)\n",
            "Requirement already satisfied: decorator>=4.3.0 in /usr/local/lib/python3.6/dist-packages (from networkx->mlrose-hiive) (4.4.2)\n",
            "Requirement already satisfied: six>=1.5 in /usr/local/lib/python3.6/dist-packages (from python-dateutil>=2.7.3->pandas->mlrose-hiive) (1.15.0)\n",
            "Building wheels for collected packages: mlrose-hiive\n",
            "  Building wheel for mlrose-hiive (setup.py) ... \u001b[?25l\u001b[?25hdone\n",
            "  Created wheel for mlrose-hiive: filename=mlrose_hiive-2.1.3-cp36-none-any.whl size=96601 sha256=e4192e8044bfb2a33469c566cd4aaaf5c1d030439f8e2f1ecb5443347f086247\n",
            "  Stored in directory: /root/.cache/pip/wheels/ee/ef/8b/941402c2014649279f68a1ed4a37b4d15142dfb9c7e4a6b7ac\n",
            "Successfully built mlrose-hiive\n",
            "Installing collected packages: mlrose-hiive\n",
            "Successfully installed mlrose-hiive-2.1.3\n"
          ],
          "name": "stdout"
        }
      ]
    },
    {
      "cell_type": "code",
      "metadata": {
        "id": "gL7mlIVGoE3m"
      },
      "source": [
        "from mlrose_hiive import NeuralNetwork\n",
        "from sklearn.metrics import accuracy_score\n",
        "import csv\n",
        "import pandas as pd\n",
        "import time"
      ],
      "execution_count": 2,
      "outputs": []
    },
    {
      "cell_type": "code",
      "metadata": {
        "id": "Jg2O9QgroIrG"
      },
      "source": [
        "from mlrose_hiive.algorithms.decay import GeomDecay\n",
        "\n",
        "def run_neural_network_sa(X_train, y_train, X_test, y_test):\n",
        "  hidden_nodes = [100, 50, 100]\n",
        "  acc_pop = []\n",
        "  acc_pop_t = []\n",
        "\n",
        "  for decay in [0.99, 0.95, 0.75, 0.5]:\n",
        "    print(\"Decay\", decay)\n",
        "    schedule = GeomDecay(init_temp=10, decay=decay)\n",
        "    start = time.time()\n",
        "    model = NeuralNetwork(hidden_nodes=hidden_nodes, schedule=schedule, algorithm='simulated_annealing', max_iters=10000, early_stopping=True)\n",
        "    model.fit(X_train, y_train)\n",
        "    end = time.time()\n",
        "    acc_pop_t.append([decay, end-start])\n",
        "    y_act = model.predict(X_test)\n",
        "    acc_pop.append([decay, accuracy_score(y_act, y_test)])\n",
        "    print(acc_pop)\n",
        "\n",
        "  with open(\"SA.csv\", \"w+\") as f:\n",
        "    csv.writer(f).writerows(acc_pop)\n",
        "  with open(\"SA_time.csv\", \"w+\") as f:\n",
        "    csv.writer(f).writerows(acc_pop_t)\n",
        "\n"
      ],
      "execution_count": 7,
      "outputs": []
    },
    {
      "cell_type": "code",
      "metadata": {
        "id": "XL7378VFoLo1",
        "outputId": "097b2bf7-3728-43fd-8975-758e9c171320",
        "colab": {
          "base_uri": "https://localhost:8080/",
          "height": 151
        }
      },
      "source": [
        "from scipy.io.arff import loadarff \n",
        "from sklearn.model_selection import train_test_split\n",
        "\n",
        "raw_data = loadarff('Training Dataset.arff')\n",
        "ph_data = pd.DataFrame(raw_data[0])\n",
        "\n",
        "for var in ph_data.columns.values:\n",
        "    ph_data[var] = pd.Categorical(ph_data[var])\n",
        "    ph_data[var] = ph_data[var].cat.codes\n",
        "\n",
        "\n",
        "y = ph_data.Result.values\n",
        "X = ph_data.drop(['Result'], axis=1)\n",
        "\n",
        "\n",
        "X_train, X_test, y_train, y_test = train_test_split(X, y, test_size=0.20, random_state=7)\n",
        "\n",
        "run_neural_network_sa(X_train, y_train, X_test, y_test)"
      ],
      "execution_count": 8,
      "outputs": [
        {
          "output_type": "stream",
          "text": [
            "Decay 0.99\n",
            "[[0.99, 0.8593396653098145]]\n",
            "Decay 0.95\n",
            "[[0.99, 0.8593396653098145], [0.95, 0.8973315241971959]]\n",
            "Decay 0.75\n",
            "[[0.99, 0.8593396653098145], [0.95, 0.8973315241971959], [0.75, 0.882858435097241]]\n",
            "Decay 0.5\n",
            "[[0.99, 0.8593396653098145], [0.95, 0.8973315241971959], [0.75, 0.882858435097241], [0.5, 0.8959746720940751]]\n"
          ],
          "name": "stdout"
        }
      ]
    }
  ]
}