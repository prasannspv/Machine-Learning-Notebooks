{
 "cells": [
  {
   "cell_type": "code",
   "execution_count": 11,
   "metadata": {},
   "outputs": [],
   "source": [
    "from mlrose_hiive import NeuralNetwork\n",
    "from sklearn.metrics import accuracy_score\n",
    "import csv\n",
    "import pandas as pd\n",
    "import time\n",
    "import json"
   ]
  },
  {
   "cell_type": "code",
   "execution_count": 49,
   "metadata": {},
   "outputs": [],
   "source": [
    "def run_neural_network_gd(X_train, y_train, X_test, y_test):\n",
    "    hidden_nodes = [100, 50, 100]\n",
    "    results = {}\n",
    "\n",
    "    start = time.time()\n",
    "    model = NeuralNetwork(hidden_nodes=hidden_nodes, algorithm='gradient_descent', \n",
    "                          max_iters=10, random_state=7, curve=True, max_attempts=10)\n",
    "    model.fit(X_train, y_train)\n",
    "    end = time.time()\n",
    "    y_act = model.predict(X_test)\n",
    "    results = {\n",
    "        'loss': model.loss, \n",
    "        'curve': model.fitness_curve.tolist(),\n",
    "        'accuracy': accuracy_score(y_act, y_test),\n",
    "        'time': end-start\n",
    "    }\n",
    "    print(results)\n",
    "    with open(\"GD.json\", \"w+\") as f:\n",
    "        json.dump(results, f, indent=4)\n",
    "\n"
   ]
  },
  {
   "cell_type": "code",
   "execution_count": 50,
   "metadata": {},
   "outputs": [
    {
     "name": "stdout",
     "output_type": "stream",
     "text": [
      "{'loss': 0.6931471805599453, 'curve': [-17.748086544251365, -15.324886498636998, -19.214244670167407, -15.324886498636998, -0.6931471805599453, -0.6931471805599453, -0.6931471805599453, -0.6931471805599453, -0.6931471805599453, -0.6931471805599453], 'accuracy': 0.44052464947987335, 'time': 1.7810933589935303}\n"
     ]
    }
   ],
   "source": [
    "from scipy.io.arff import loadarff \n",
    "from sklearn.model_selection import train_test_split\n",
    "\n",
    "raw_data = loadarff('Training Dataset.arff')\n",
    "ph_data = pd.DataFrame(raw_data[0])\n",
    "\n",
    "for var in ph_data.columns.values:\n",
    "    ph_data[var] = pd.Categorical(ph_data[var])\n",
    "    ph_data[var] = ph_data[var].cat.codes\n",
    "\n",
    "\n",
    "y = ph_data.Result.values\n",
    "X = ph_data.drop(['Result'], axis=1)\n",
    "\n",
    "\n",
    "X_train, X_test, y_train, y_test = train_test_split(X, y, test_size=0.20, random_state=7)\n",
    "\n",
    "run_neural_network_gd(X_train, y_train, X_test, y_test)"
   ]
  },
  {
   "cell_type": "code",
   "execution_count": 32,
   "metadata": {},
   "outputs": [
    {
     "data": {
      "image/png": "[encoded data removed]",
      "text/plain": [
       "<Figure size 432x288 with 1 Axes>"
      ]
     },
     "metadata": {
      "needs_background": "light"
     },
     "output_type": "display_data"
    }
   ],
   "source": [
    "import matplotlib.pyplot as plt\n",
    "\n",
    "results = None        \n",
    "with open(\"GD.json\") as f:\n",
    "    results = json.load(f)\n",
    "\n",
    "fig, ax = plt.subplots()\n",
    "ax.set_title(\"SA - Fitness Curve\")\n",
    "ax.set_xlabel(\"Iterations\")\n",
    "ax.set_ylabel(\"Fitness\")\n",
    "ax.plot(results['curve'])\n",
    "\n",
    "plt.savefig(\"SA_Curve.png\")\n"
   ]
  }
 ],
 "metadata": {
  "kernelspec": {
   "display_name": "Python 3",
   "language": "python",
   "name": "python3"
  },
  "language_info": {
   "codemirror_mode": {
    "name": "ipython",
    "version": 3
   },
   "file_extension": ".py",
   "mimetype": "text/x-python",
   "name": "python",
   "nbconvert_exporter": "python",
   "pygments_lexer": "ipython3",
   "version": "3.7.7"
  }
 },
 "nbformat": 4,
 "nbformat_minor": 4
}
