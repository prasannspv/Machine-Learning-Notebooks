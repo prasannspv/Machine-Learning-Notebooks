{
  "nbformat": 4,
  "nbformat_minor": 0,
  "metadata": {
    "colab": {
      "name": "Adaboost.ipynb",
      "provenance": []
    },
    "kernelspec": {
      "name": "python3",
      "display_name": "Python 3"
    }
  },
  "cells": [
    {
      "cell_type": "code",
      "metadata": {
        "id": "2FTTcoiwQ3mY",
        "colab_type": "code",
        "colab": {}
      },
      "source": [
        "from sklearn import ensemble, metrics, tree\n",
        "import pandas as pd\n",
        "from sklearn import model_selection\n",
        "import matplotlib.pyplot as plt\n",
        "import graphviz\n",
        "from sklearn.model_selection import train_test_split\n",
        "import seaborn as sns\n",
        "import numpy as np\n",
        "from sklearn.model_selection import train_test_split\n",
        "from sklearn.metrics import plot_confusion_matrix\n",
        "from sklearn.model_selection import learning_curve"
      ],
      "execution_count": 23,
      "outputs": []
    },
    {
      "cell_type": "code",
      "metadata": {
        "id": "BiedjZ7uRHxh",
        "colab_type": "code",
        "colab": {}
      },
      "source": [
        "def boost_train(X, y, n=50, learning_rate=1):\n",
        "    boost = ensemble.AdaBoostClassifier(base_estimator=tree.DecisionTreeClassifier(max_depth=2), n_estimators=n, learning_rate=learning_rate)\n",
        "    boost.fit(X, y)\n",
        "    return boost\n",
        "\n",
        "def get_classification_score(boost, X, y):\n",
        "    return boost.score(X, y)\n",
        "\n",
        "def get_f1_score(boost, X, y, average='macro'):\n",
        "    yp = boost.predict(X)\n",
        "    return metrics.f1_score(y, yp, average=average)\n",
        "\n",
        "\n",
        "def plot_validation_curve(X, y, param_name, param_range, cross_validation=5, fig_name=\"validation_curve.png\",\n",
        "                          xscale='linear', scorer=None):\n",
        "    boost = ensemble.AdaBoostClassifier(base_estimator=tree.DecisionTreeClassifier(max_depth=2))\n",
        "    tr_sc, tst_sc = model_selection.validation_curve(boost, X, y, param_name=param_name,\n",
        "                                                            param_range=param_range, cv=cross_validation, scoring=scorer, \n",
        "                                                     verbose=2, n_jobs=-1)\n",
        "    plt.figure()\n",
        "    plt.xticks(param_range)\n",
        "    plt.xlabel(param_name)\n",
        "    plt.xscale(xscale)\n",
        "    plt.ylabel(\"Score\")\n",
        "    plt.plot(param_range, np.mean(tr_sc, axis=1), label='Training score')\n",
        "    plt.plot(param_range, np.mean(tst_sc, axis=1), label='Cross-validation score')\n",
        "    plt.legend(loc=\"best\")\n",
        "    plt.title('Adaboost - Validation Curve')\n",
        "    \n",
        "    plt.savefig(fig_name)\n",
        "    plt.show()\n",
        "    return tr_sc, tst_sc"
      ],
      "execution_count": 48,
      "outputs": []
    },
    {
      "cell_type": "markdown",
      "metadata": {
        "id": "jpu4dTtOSUZr",
        "colab_type": "text"
      },
      "source": [
        "## Phishing Website dataset analysis"
      ]
    },
    {
      "cell_type": "code",
      "metadata": {
        "id": "5T383ZooSW2i",
        "colab_type": "code",
        "colab": {}
      },
      "source": [
        "from scipy.io.arff import loadarff \n",
        "\n",
        "raw_data = loadarff('Training Dataset.arff')\n",
        "ph_data = pd.DataFrame(raw_data[0])\n",
        "ph_data.head()\n",
        "\n",
        "for var in ph_data.columns.values:\n",
        "    ph_data[var] = pd.Categorical(ph_data[var])\n",
        "    ph_data[var] = ph_data[var].cat.codes"
      ],
      "execution_count": 37,
      "outputs": []
    },
    {
      "cell_type": "code",
      "metadata": {
        "id": "3Wt1q_kJSa0W",
        "colab_type": "code",
        "colab": {
          "base_uri": "https://localhost:8080/",
          "height": 312
        },
        "outputId": "b3879d42-d1ec-42aa-ea0a-e04ef0fcd9c6"
      },
      "source": [
        "y = ph_data.Result.values\n",
        "X = ph_data.drop(['Result'], axis=1)\n",
        "fig, ax = plt.subplots()\n",
        "ax.set_title(\"Learning Curve - Adaboost\")\n",
        "ax.set_xlabel(\"Training examples\")\n",
        "ax.set_ylabel(\"Score\")\n",
        "\n",
        "X_train, X_test, y_train, y_test = train_test_split(X, y, test_size=0.20, random_state=6)\n",
        "boost = boost_train(X_train, y_train)\n",
        "\n",
        "train_sizes, train_scores, test_scores, fit_times, _ = learning_curve(boost, X_train, y_train, cv=5,\n",
        "                       return_times=True)\n",
        "\n",
        "train_scores_mean = np.mean(train_scores, axis=1)\n",
        "train_scores_std = np.std(train_scores, axis=1)\n",
        "test_scores_mean = np.mean(test_scores, axis=1)\n",
        "test_scores_std = np.std(test_scores, axis=1)\n",
        "fit_times_mean = np.mean(fit_times, axis=1)\n",
        "fit_times_std = np.std(fit_times, axis=1)\n",
        "\n",
        "ax.plot(train_sizes, train_scores_mean, 'o-', color=\"r\",\n",
        "             label=\"Training score\")\n",
        "ax.plot(train_sizes, test_scores_mean, 'o-', color=\"g\",\n",
        "             label=\"Cross-validation score\")\n",
        "ax.legend(loc=\"best\")"
      ],
      "execution_count": 38,
      "outputs": [
        {
          "output_type": "execute_result",
          "data": {
            "text/plain": [
              "<matplotlib.legend.Legend at 0x7fa44eaa3470>"
            ]
          },
          "metadata": {
            "tags": []
          },
          "execution_count": 38
        },
        {
          "output_type": "display_data",
          "data": {
            "image/png": "[encoded data removed]",
            "text/plain": [
              "<Figure size 432x288 with 1 Axes>"
            ]
          },
          "metadata": {
            "tags": [],
            "needs_background": "light"
          }
        }
      ]
    },
    {
      "cell_type": "code",
      "metadata": {
        "id": "lKGBim-VTLre",
        "colab_type": "code",
        "colab": {
          "base_uri": "https://localhost:8080/",
          "height": 1000
        },
        "outputId": "d6f09648-1b20-4a0b-96ff-41798c74ceb5"
      },
      "source": [
        "plot_validation_curve(X_train, y_train, 'n_estimators', range(10, 210, 10), \n",
        "                      fig_name=\"max_depth_vc.png\")"
      ],
      "execution_count": 28,
      "outputs": [
        {
          "output_type": "stream",
          "text": [
            "[Parallel(n_jobs=-1)]: Using backend LokyBackend with 2 concurrent workers.\n",
            "[Parallel(n_jobs=-1)]: Done  50 out of 100 | elapsed:   40.0s remaining:   40.0s\n",
            "[Parallel(n_jobs=-1)]: Done 100 out of 100 | elapsed:  1.4min finished\n"
          ],
          "name": "stderr"
        },
        {
          "output_type": "display_data",
          "data": {
            "image/png": "[encoded data removed]",
            "text/plain": [
              "<Figure size 432x288 with 1 Axes>"
            ]
          },
          "metadata": {
            "tags": [],
            "needs_background": "light"
          }
        },
        {
          "output_type": "execute_result",
          "data": {
            "text/plain": [
              "(array([[0.93583039, 0.94318021, 0.93724382, 0.94077739, 0.94078575],\n",
              "        [0.9454417 , 0.94812721, 0.94685512, 0.94473498, 0.94742793],\n",
              "        [0.95250883, 0.95208481, 0.95067138, 0.94996466, 0.94827586],\n",
              "        [0.95321555, 0.95618375, 0.95632509, 0.9560424 , 0.95124364],\n",
              "        [0.95816254, 0.96028269, 0.95929329, 0.9570318 , 0.95576597],\n",
              "        [0.96042403, 0.96240283, 0.96056537, 0.96028269, 0.95689655],\n",
              "        [0.95971731, 0.9639576 , 0.96169611, 0.95943463, 0.95774449],\n",
              "        [0.96084806, 0.96537102, 0.96155477, 0.96183746, 0.95972301],\n",
              "        [0.96240283, 0.96636042, 0.96084806, 0.96452297, 0.96226682],\n",
              "        [0.96310954, 0.96650177, 0.96169611, 0.96254417, 0.96325608],\n",
              "        [0.96282686, 0.96904594, 0.96353357, 0.96621908, 0.96452798],\n",
              "        [0.96409894, 0.97003534, 0.96424028, 0.96650177, 0.9665065 ],\n",
              "        [0.96522968, 0.97060071, 0.96466431, 0.96664311, 0.96495195],\n",
              "        [0.96650177, 0.97187279, 0.96664311, 0.96819788, 0.96622386],\n",
              "        [0.96805654, 0.97130742, 0.96749117, 0.96819788, 0.96664782],\n",
              "        [0.96862191, 0.97159011, 0.96763251, 0.96862191, 0.96806105],\n",
              "        [0.96876325, 0.97215548, 0.96848057, 0.97031802, 0.96791973],\n",
              "        [0.96904594, 0.97257951, 0.96848057, 0.96932862, 0.96848502],\n",
              "        [0.96975265, 0.97371025, 0.96932862, 0.96975265, 0.96975692],\n",
              "        [0.96989399, 0.97286219, 0.96876325, 0.97074205, 0.97003957]]),\n",
              " array([[0.93951385, 0.92594686, 0.93725269, 0.93781798, 0.93891403],\n",
              "        [0.94347089, 0.93046919, 0.93838327, 0.94573205, 0.94400452],\n",
              "        [0.94855851, 0.93894856, 0.94403618, 0.9491238 , 0.94343891],\n",
              "        [0.9491238 , 0.94120972, 0.94968909, 0.95703787, 0.94570136],\n",
              "        [0.95195025, 0.94347089, 0.95251555, 0.95251555, 0.95701357],\n",
              "        [0.95195025, 0.94686263, 0.95477671, 0.95703787, 0.9581448 ],\n",
              "        [0.95081967, 0.94403618, 0.95421142, 0.95647258, 0.95588235],\n",
              "        [0.95477671, 0.94686263, 0.95421142, 0.95873375, 0.95644796],\n",
              "        [0.95590729, 0.94686263, 0.95195025, 0.9615602 , 0.95531674],\n",
              "        [0.955342  , 0.9491238 , 0.95251555, 0.96099491, 0.95701357],\n",
              "        [0.95590729, 0.95308084, 0.95477671, 0.96438666, 0.95701357],\n",
              "        [0.95477671, 0.95025438, 0.95477671, 0.96438666, 0.95531674],\n",
              "        [0.95929904, 0.95081967, 0.95590729, 0.96664782, 0.95361991],\n",
              "        [0.96212549, 0.95251555, 0.95421142, 0.96551724, 0.95757919],\n",
              "        [0.96325608, 0.95195025, 0.95421142, 0.96721311, 0.95757919],\n",
              "        [0.96495195, 0.95081967, 0.95590729, 0.96608253, 0.95531674],\n",
              "        [0.96438666, 0.94968909, 0.95647258, 0.96495195, 0.95757919],\n",
              "        [0.96269079, 0.95081967, 0.95816846, 0.96495195, 0.95701357],\n",
              "        [0.96495195, 0.94968909, 0.95760317, 0.96721311, 0.95871041],\n",
              "        [0.96495195, 0.94968909, 0.95986433, 0.96721311, 0.96153846]]))"
            ]
          },
          "metadata": {
            "tags": []
          },
          "execution_count": 28
        }
      ]
    },
    {
      "cell_type": "code",
      "metadata": {
        "id": "rF8MUG3IT8Cy",
        "colab_type": "code",
        "colab": {
          "base_uri": "https://localhost:8080/",
          "height": 518
        },
        "outputId": "0168cc9a-0104-48a2-add3-aa7f7b2ef781"
      },
      "source": [
        "plot_validation_curve(X_train, y_train, 'learning_rate', [1e-3, 1e-2, 1e-1, 1, 10], \n",
        "                      fig_name=\"max_depth_vc.png\", xscale=\"log\")"
      ],
      "execution_count": 29,
      "outputs": [
        {
          "output_type": "stream",
          "text": [
            "[Parallel(n_jobs=-1)]: Using backend LokyBackend with 2 concurrent workers.\n",
            "[Parallel(n_jobs=-1)]: Done  13 out of  25 | elapsed:    5.3s remaining:    4.9s\n",
            "[Parallel(n_jobs=-1)]: Done  25 out of  25 | elapsed:    9.3s finished\n"
          ],
          "name": "stderr"
        },
        {
          "output_type": "display_data",
          "data": {
            "image/png": "[encoded data removed]",
            "text/plain": [
              "<Figure size 432x288 with 1 Axes>"
            ]
          },
          "metadata": {
            "tags": [],
            "needs_background": "light"
          }
        },
        {
          "output_type": "execute_result",
          "data": {
            "text/plain": [
              "(array([[0.90473498, 0.91674912, 0.91250883, 0.9054417 , 0.91478236],\n",
              "        [0.91477032, 0.91674912, 0.91250883, 0.91434629, 0.91478236],\n",
              "        [0.9345583 , 0.9355477 , 0.93286219, 0.93328622, 0.93329565],\n",
              "        [0.95816254, 0.96028269, 0.95929329, 0.9570318 , 0.95576597],\n",
              "        [0.43816254, 0.42572438, 0.43886926, 0.43773852, 0.43824194]]),\n",
              " array([[0.90559638, 0.90616167, 0.92312041, 0.90276993, 0.91402715],\n",
              "        [0.91407575, 0.90616167, 0.92312041, 0.91577162, 0.91402715],\n",
              "        [0.93103448, 0.92481628, 0.93668739, 0.93386094, 0.92816742],\n",
              "        [0.95195025, 0.94347089, 0.95251555, 0.95251555, 0.95701357],\n",
              "        [0.43866591, 0.42736009, 0.43583946, 0.44036179, 0.43834842]]))"
            ]
          },
          "metadata": {
            "tags": []
          },
          "execution_count": 29
        }
      ]
    },
    {
      "cell_type": "code",
      "metadata": {
        "id": "VFiKR86sVpIN",
        "colab_type": "code",
        "colab": {
          "base_uri": "https://localhost:8080/",
          "height": 34
        },
        "outputId": "fc862c9c-23b9-4f09-b107-07850c0b233a"
      },
      "source": [
        "boost = boost_train(X_train, y_train, n=200, learning_rate=1)\n",
        "get_classification_score(boost, X_test, y_test)"
      ],
      "execution_count": 31,
      "outputs": [
        {
          "output_type": "execute_result",
          "data": {
            "text/plain": [
              "0.9552238805970149"
            ]
          },
          "metadata": {
            "tags": []
          },
          "execution_count": 31
        }
      ]
    },
    {
      "cell_type": "code",
      "metadata": {
        "id": "Jop38K-RV8Gr",
        "colab_type": "code",
        "colab": {
          "base_uri": "https://localhost:8080/",
          "height": 279
        },
        "outputId": "af950b36-4ccd-4b10-a78a-bd9a313e8d27"
      },
      "source": [
        "ax = plot_confusion_matrix(boost, X_test, y_test,\n",
        "                                 display_labels=['Phishing',\n",
        "                                 'Not Phishing'],cmap=plt.cm.Blues, values_format='d')\n",
        "plt.show()"
      ],
      "execution_count": 32,
      "outputs": [
        {
          "output_type": "display_data",
          "data": {
            "image/png": "[encoded data removed]",
            "text/plain": [
              "<Figure size 432x288 with 2 Axes>"
            ]
          },
          "metadata": {
            "tags": [],
            "needs_background": "light"
          }
        }
      ]
    },
    {
      "cell_type": "code",
      "metadata": {
        "id": "uzd-iOc-WCBW",
        "colab_type": "code",
        "colab": {}
      },
      "source": [
        "import pickle\n",
        "pickle.dump(boost, open(\"Boost D2.sav\", 'wb'))"
      ],
      "execution_count": 33,
      "outputs": []
    },
    {
      "cell_type": "markdown",
      "metadata": {
        "id": "Xw9-qT9yWHhF",
        "colab_type": "text"
      },
      "source": [
        "## Census Dataset Analysis"
      ]
    },
    {
      "cell_type": "code",
      "metadata": {
        "id": "cKm43RTCWJdA",
        "colab_type": "code",
        "colab": {
          "base_uri": "https://localhost:8080/",
          "height": 363
        },
        "outputId": "3889b1ce-20da-4d2b-bc2c-4b346a313139"
      },
      "source": [
        "data = pd.read_csv(\"adult.data\", sep='\\t', header=None, \n",
        "                   names=[\"age\", \"workclass\", \"fnlwgt\", \"education\", \n",
        "                          \"education-num\", \"marital-status\", \"occupation\",\n",
        "                          \"relationship\", \"race\", \"sex\", \"capital-gain\", \n",
        "                          \"capital-loss\", \"hours-per-week\", \"native-country\", \n",
        "                          \"output\"])\n",
        "data.head()"
      ],
      "execution_count": 39,
      "outputs": [
        {
          "output_type": "execute_result",
          "data": {
            "text/html": [
              "<div>\n",
              "<style scoped>\n",
              "    .dataframe tbody tr th:only-of-type {\n",
              "        vertical-align: middle;\n",
              "    }\n",
              "\n",
              "    .dataframe tbody tr th {\n",
              "        vertical-align: top;\n",
              "    }\n",
              "\n",
              "    .dataframe thead th {\n",
              "        text-align: right;\n",
              "    }\n",
              "</style>\n",
              "<table border=\"1\" class=\"dataframe\">\n",
              "  <thead>\n",
              "    <tr style=\"text-align: right;\">\n",
              "      <th></th>\n",
              "      <th>age</th>\n",
              "      <th>workclass</th>\n",
              "      <th>fnlwgt</th>\n",
              "      <th>education</th>\n",
              "      <th>education-num</th>\n",
              "      <th>marital-status</th>\n",
              "      <th>occupation</th>\n",
              "      <th>relationship</th>\n",
              "      <th>race</th>\n",
              "      <th>sex</th>\n",
              "      <th>capital-gain</th>\n",
              "      <th>capital-loss</th>\n",
              "      <th>hours-per-week</th>\n",
              "      <th>native-country</th>\n",
              "      <th>output</th>\n",
              "    </tr>\n",
              "  </thead>\n",
              "  <tbody>\n",
              "    <tr>\n",
              "      <th>0</th>\n",
              "      <td>39</td>\n",
              "      <td>State-gov</td>\n",
              "      <td>77516</td>\n",
              "      <td>Bachelors</td>\n",
              "      <td>13</td>\n",
              "      <td>Never-married</td>\n",
              "      <td>Adm-clerical</td>\n",
              "      <td>Not-in-family</td>\n",
              "      <td>White</td>\n",
              "      <td>Male</td>\n",
              "      <td>2174</td>\n",
              "      <td>0</td>\n",
              "      <td>40</td>\n",
              "      <td>United-States</td>\n",
              "      <td>&lt;=50K</td>\n",
              "    </tr>\n",
              "    <tr>\n",
              "      <th>1</th>\n",
              "      <td>50</td>\n",
              "      <td>Self-emp-not-inc</td>\n",
              "      <td>83311</td>\n",
              "      <td>Bachelors</td>\n",
              "      <td>13</td>\n",
              "      <td>Married-civ-spouse</td>\n",
              "      <td>Exec-managerial</td>\n",
              "      <td>Husband</td>\n",
              "      <td>White</td>\n",
              "      <td>Male</td>\n",
              "      <td>0</td>\n",
              "      <td>0</td>\n",
              "      <td>13</td>\n",
              "      <td>United-States</td>\n",
              "      <td>&lt;=50K</td>\n",
              "    </tr>\n",
              "    <tr>\n",
              "      <th>2</th>\n",
              "      <td>38</td>\n",
              "      <td>Private</td>\n",
              "      <td>215646</td>\n",
              "      <td>HS-grad</td>\n",
              "      <td>9</td>\n",
              "      <td>Divorced</td>\n",
              "      <td>Handlers-cleaners</td>\n",
              "      <td>Not-in-family</td>\n",
              "      <td>White</td>\n",
              "      <td>Male</td>\n",
              "      <td>0</td>\n",
              "      <td>0</td>\n",
              "      <td>40</td>\n",
              "      <td>United-States</td>\n",
              "      <td>&lt;=50K</td>\n",
              "    </tr>\n",
              "    <tr>\n",
              "      <th>3</th>\n",
              "      <td>53</td>\n",
              "      <td>Private</td>\n",
              "      <td>234721</td>\n",
              "      <td>11th</td>\n",
              "      <td>7</td>\n",
              "      <td>Married-civ-spouse</td>\n",
              "      <td>Handlers-cleaners</td>\n",
              "      <td>Husband</td>\n",
              "      <td>Black</td>\n",
              "      <td>Male</td>\n",
              "      <td>0</td>\n",
              "      <td>0</td>\n",
              "      <td>40</td>\n",
              "      <td>United-States</td>\n",
              "      <td>&lt;=50K</td>\n",
              "    </tr>\n",
              "    <tr>\n",
              "      <th>4</th>\n",
              "      <td>28</td>\n",
              "      <td>Private</td>\n",
              "      <td>338409</td>\n",
              "      <td>Bachelors</td>\n",
              "      <td>13</td>\n",
              "      <td>Married-civ-spouse</td>\n",
              "      <td>Prof-specialty</td>\n",
              "      <td>Wife</td>\n",
              "      <td>Black</td>\n",
              "      <td>Female</td>\n",
              "      <td>0</td>\n",
              "      <td>0</td>\n",
              "      <td>40</td>\n",
              "      <td>Cuba</td>\n",
              "      <td>&lt;=50K</td>\n",
              "    </tr>\n",
              "  </tbody>\n",
              "</table>\n",
              "</div>"
            ],
            "text/plain": [
              "   age          workclass  fnlwgt  ... hours-per-week  native-country  output\n",
              "0   39          State-gov   77516  ...             40   United-States   <=50K\n",
              "1   50   Self-emp-not-inc   83311  ...             13   United-States   <=50K\n",
              "2   38            Private  215646  ...             40   United-States   <=50K\n",
              "3   53            Private  234721  ...             40   United-States   <=50K\n",
              "4   28            Private  338409  ...             40            Cuba   <=50K\n",
              "\n",
              "[5 rows x 15 columns]"
            ]
          },
          "metadata": {
            "tags": []
          },
          "execution_count": 39
        }
      ]
    },
    {
      "cell_type": "code",
      "metadata": {
        "id": "5dwWcRmVWNM4",
        "colab_type": "code",
        "colab": {
          "base_uri": "https://localhost:8080/",
          "height": 296
        },
        "outputId": "ee713deb-ad2f-4e09-dbe0-0b3a4a91c19f"
      },
      "source": [
        "sns.countplot(x=\"output\", data=data)"
      ],
      "execution_count": 40,
      "outputs": [
        {
          "output_type": "execute_result",
          "data": {
            "text/plain": [
              "<matplotlib.axes._subplots.AxesSubplot at 0x7fa44ed38668>"
            ]
          },
          "metadata": {
            "tags": []
          },
          "execution_count": 40
        },
        {
          "output_type": "display_data",
          "data": {
            "image/png": "[encoded data removed]",
            "text/plain": [
              "<Figure size 432x288 with 1 Axes>"
            ]
          },
          "metadata": {
            "tags": [],
            "needs_background": "light"
          }
        }
      ]
    },
    {
      "cell_type": "code",
      "metadata": {
        "id": "_1u3Uu2tWO5M",
        "colab_type": "code",
        "colab": {
          "base_uri": "https://localhost:8080/",
          "height": 229
        },
        "outputId": "f4a6bc83-78b6-4b11-c341-0660b23ea136"
      },
      "source": [
        "categorical_vars =[\"workclass\", \"education\", \"marital-status\", \"occupation\", \"relationship\", \n",
        "                   \"race\", \"sex\", \"native-country\"]\n",
        "df = data.copy()\n",
        "for var in categorical_vars:\n",
        "    df[var] = pd.Categorical(df[var])\n",
        "    df[var] = df[var].cat.codes\n",
        "\n",
        "continuous_vars = [\"fnlwgt\", \"capital-gain\", \"capital-loss\"]\n",
        "for var in continuous_vars:\n",
        "    df[var] = (df[var]-df[var].mean())/df[var].std()\n",
        "\n",
        "y = df.output.values\n",
        "X = df.drop(['output'], axis=1)\n",
        "df.head()"
      ],
      "execution_count": 41,
      "outputs": [
        {
          "output_type": "execute_result",
          "data": {
            "text/html": [
              "<div>\n",
              "<style scoped>\n",
              "    .dataframe tbody tr th:only-of-type {\n",
              "        vertical-align: middle;\n",
              "    }\n",
              "\n",
              "    .dataframe tbody tr th {\n",
              "        vertical-align: top;\n",
              "    }\n",
              "\n",
              "    .dataframe thead th {\n",
              "        text-align: right;\n",
              "    }\n",
              "</style>\n",
              "<table border=\"1\" class=\"dataframe\">\n",
              "  <thead>\n",
              "    <tr style=\"text-align: right;\">\n",
              "      <th></th>\n",
              "      <th>age</th>\n",
              "      <th>workclass</th>\n",
              "      <th>fnlwgt</th>\n",
              "      <th>education</th>\n",
              "      <th>education-num</th>\n",
              "      <th>marital-status</th>\n",
              "      <th>occupation</th>\n",
              "      <th>relationship</th>\n",
              "      <th>race</th>\n",
              "      <th>sex</th>\n",
              "      <th>capital-gain</th>\n",
              "      <th>capital-loss</th>\n",
              "      <th>hours-per-week</th>\n",
              "      <th>native-country</th>\n",
              "      <th>output</th>\n",
              "    </tr>\n",
              "  </thead>\n",
              "  <tbody>\n",
              "    <tr>\n",
              "      <th>0</th>\n",
              "      <td>39</td>\n",
              "      <td>7</td>\n",
              "      <td>-1.063594</td>\n",
              "      <td>9</td>\n",
              "      <td>13</td>\n",
              "      <td>4</td>\n",
              "      <td>1</td>\n",
              "      <td>1</td>\n",
              "      <td>4</td>\n",
              "      <td>1</td>\n",
              "      <td>0.148451</td>\n",
              "      <td>-0.216656</td>\n",
              "      <td>40</td>\n",
              "      <td>39</td>\n",
              "      <td>&lt;=50K</td>\n",
              "    </tr>\n",
              "    <tr>\n",
              "      <th>1</th>\n",
              "      <td>50</td>\n",
              "      <td>6</td>\n",
              "      <td>-1.008692</td>\n",
              "      <td>9</td>\n",
              "      <td>13</td>\n",
              "      <td>2</td>\n",
              "      <td>4</td>\n",
              "      <td>0</td>\n",
              "      <td>4</td>\n",
              "      <td>1</td>\n",
              "      <td>-0.145918</td>\n",
              "      <td>-0.216656</td>\n",
              "      <td>13</td>\n",
              "      <td>39</td>\n",
              "      <td>&lt;=50K</td>\n",
              "    </tr>\n",
              "    <tr>\n",
              "      <th>2</th>\n",
              "      <td>38</td>\n",
              "      <td>4</td>\n",
              "      <td>0.245075</td>\n",
              "      <td>11</td>\n",
              "      <td>9</td>\n",
              "      <td>0</td>\n",
              "      <td>6</td>\n",
              "      <td>1</td>\n",
              "      <td>4</td>\n",
              "      <td>1</td>\n",
              "      <td>-0.145918</td>\n",
              "      <td>-0.216656</td>\n",
              "      <td>40</td>\n",
              "      <td>39</td>\n",
              "      <td>&lt;=50K</td>\n",
              "    </tr>\n",
              "    <tr>\n",
              "      <th>3</th>\n",
              "      <td>53</td>\n",
              "      <td>4</td>\n",
              "      <td>0.425795</td>\n",
              "      <td>1</td>\n",
              "      <td>7</td>\n",
              "      <td>2</td>\n",
              "      <td>6</td>\n",
              "      <td>0</td>\n",
              "      <td>2</td>\n",
              "      <td>1</td>\n",
              "      <td>-0.145918</td>\n",
              "      <td>-0.216656</td>\n",
              "      <td>40</td>\n",
              "      <td>39</td>\n",
              "      <td>&lt;=50K</td>\n",
              "    </tr>\n",
              "    <tr>\n",
              "      <th>4</th>\n",
              "      <td>28</td>\n",
              "      <td>4</td>\n",
              "      <td>1.408154</td>\n",
              "      <td>9</td>\n",
              "      <td>13</td>\n",
              "      <td>2</td>\n",
              "      <td>10</td>\n",
              "      <td>5</td>\n",
              "      <td>2</td>\n",
              "      <td>0</td>\n",
              "      <td>-0.145918</td>\n",
              "      <td>-0.216656</td>\n",
              "      <td>40</td>\n",
              "      <td>5</td>\n",
              "      <td>&lt;=50K</td>\n",
              "    </tr>\n",
              "  </tbody>\n",
              "</table>\n",
              "</div>"
            ],
            "text/plain": [
              "   age  workclass    fnlwgt  ...  hours-per-week  native-country  output\n",
              "0   39          7 -1.063594  ...              40              39   <=50K\n",
              "1   50          6 -1.008692  ...              13              39   <=50K\n",
              "2   38          4  0.245075  ...              40              39   <=50K\n",
              "3   53          4  0.425795  ...              40              39   <=50K\n",
              "4   28          4  1.408154  ...              40               5   <=50K\n",
              "\n",
              "[5 rows x 15 columns]"
            ]
          },
          "metadata": {
            "tags": []
          },
          "execution_count": 41
        }
      ]
    },
    {
      "cell_type": "code",
      "metadata": {
        "id": "Z1BuThjYWhdw",
        "colab_type": "code",
        "colab": {
          "base_uri": "https://localhost:8080/",
          "height": 312
        },
        "outputId": "9ef668e0-dc03-4aff-9782-1eb68c765f93"
      },
      "source": [
        "fig, ax = plt.subplots()\n",
        "ax.set_title(\"Learning Curve - Adaboost\")\n",
        "ax.set_xlabel(\"Training examples\")\n",
        "ax.set_ylabel(\"Score\")\n",
        "\n",
        "X_train, X_test, y_train, y_test = train_test_split(X, y, test_size=0.20, random_state=7)\n",
        "boost = boost_train(X_train, y_train)\n",
        "\n",
        "train_sizes, train_scores, test_scores, fit_times, _ = learning_curve(boost, X_train, y_train, cv=5,\n",
        "                       return_times=True)\n",
        "\n",
        "train_scores_mean = np.mean(train_scores, axis=1)\n",
        "train_scores_std = np.std(train_scores, axis=1)\n",
        "test_scores_mean = np.mean(test_scores, axis=1)\n",
        "test_scores_std = np.std(test_scores, axis=1)\n",
        "fit_times_mean = np.mean(fit_times, axis=1)\n",
        "fit_times_std = np.std(fit_times, axis=1)\n",
        "\n",
        "ax.plot(train_sizes, train_scores_mean, 'o-', color=\"r\",\n",
        "             label=\"Training score\")\n",
        "ax.plot(train_sizes, test_scores_mean, 'o-', color=\"g\",\n",
        "             label=\"Cross-validation score\")\n",
        "ax.legend(loc=\"best\")"
      ],
      "execution_count": 43,
      "outputs": [
        {
          "output_type": "execute_result",
          "data": {
            "text/plain": [
              "<matplotlib.legend.Legend at 0x7fa44d0dfcf8>"
            ]
          },
          "metadata": {
            "tags": []
          },
          "execution_count": 43
        },
        {
          "output_type": "display_data",
          "data": {
            "image/png": "[encoded data removed]",
            "text/plain": [
              "<Figure size 432x288 with 1 Axes>"
            ]
          },
          "metadata": {
            "tags": [],
            "needs_background": "light"
          }
        }
      ]
    },
    {
      "cell_type": "code",
      "metadata": {
        "id": "WZMAYmhUWv0T",
        "colab_type": "code",
        "colab": {
          "base_uri": "https://localhost:8080/",
          "height": 1000
        },
        "outputId": "a5dbeb9c-5f29-4db2-ffd2-9367273b5675"
      },
      "source": [
        "plot_validation_curve(X_train, y_train, 'n_estimators', range(10, 210, 10), \n",
        "                      fig_name=\"max_depth_vc.png\", scorer=lambda a, x, y: get_f1_score(a, x, y))"
      ],
      "execution_count": 49,
      "outputs": [
        {
          "output_type": "stream",
          "text": [
            "[Parallel(n_jobs=-1)]: Using backend LokyBackend with 2 concurrent workers.\n",
            "[Parallel(n_jobs=-1)]: Done  50 out of 100 | elapsed:  3.7min remaining:  3.7min\n",
            "[Parallel(n_jobs=-1)]: Done 100 out of 100 | elapsed:  8.0min finished\n"
          ],
          "name": "stderr"
        },
        {
          "output_type": "display_data",
          "data": {
            "image/png": "[encoded data removed]",
            "text/plain": [
              "<Figure size 432x288 with 1 Axes>"
            ]
          },
          "metadata": {
            "tags": [],
            "needs_background": "light"
          }
        },
        {
          "output_type": "execute_result",
          "data": {
            "text/plain": [
              "(array([[0.77900969, 0.78371851, 0.78327146, 0.78260688, 0.78418701],\n",
              "        [0.79454905, 0.79131966, 0.80253702, 0.80048522, 0.80027773],\n",
              "        [0.80341845, 0.80927326, 0.81151542, 0.80528985, 0.80993312],\n",
              "        [0.80652154, 0.81395323, 0.81512128, 0.81518994, 0.81406921],\n",
              "        [0.80920844, 0.81646195, 0.81908659, 0.81539827, 0.81805274],\n",
              "        [0.81946921, 0.81817979, 0.82534371, 0.81981557, 0.82076091],\n",
              "        [0.82050678, 0.819148  , 0.82606953, 0.82014848, 0.82289567],\n",
              "        [0.82014405, 0.82202438, 0.82669535, 0.82280669, 0.82588883],\n",
              "        [0.82304449, 0.82057622, 0.82825118, 0.82517416, 0.82655564],\n",
              "        [0.82439408, 0.82238947, 0.83057203, 0.82606868, 0.82726956],\n",
              "        [0.82405901, 0.82559003, 0.8308663 , 0.82647911, 0.82900682],\n",
              "        [0.82570769, 0.82696491, 0.83206838, 0.827445  , 0.82951005],\n",
              "        [0.82814254, 0.82888952, 0.83424937, 0.82929948, 0.83091494],\n",
              "        [0.82847182, 0.83088786, 0.83549367, 0.83168815, 0.83203568],\n",
              "        [0.82968672, 0.8317959 , 0.83560469, 0.83215035, 0.83455141],\n",
              "        [0.83006728, 0.83157587, 0.83635166, 0.83339098, 0.83533219],\n",
              "        [0.83177236, 0.83335871, 0.83728039, 0.83461331, 0.83614965],\n",
              "        [0.83399022, 0.83437551, 0.83776517, 0.83554589, 0.83737093],\n",
              "        [0.83409116, 0.83625483, 0.8377422 , 0.83647991, 0.83789549],\n",
              "        [0.83758469, 0.83719959, 0.83901444, 0.8377931 , 0.84048175]]),\n",
              " array([[0.78080449, 0.79204955, 0.77464041, 0.77120526, 0.78204608],\n",
              "        [0.79186361, 0.79850344, 0.78955205, 0.78898831, 0.78926064],\n",
              "        [0.80298178, 0.81346127, 0.79653709, 0.79812312, 0.80198587],\n",
              "        [0.8062723 , 0.81533994, 0.80236605, 0.80750185, 0.8005894 ],\n",
              "        [0.80798166, 0.81956598, 0.80934166, 0.80434585, 0.80591738],\n",
              "        [0.81888134, 0.81967887, 0.80724321, 0.80738177, 0.8037473 ],\n",
              "        [0.819559  , 0.82145381, 0.8055815 , 0.80998071, 0.80716381],\n",
              "        [0.81978482, 0.82264932, 0.80665776, 0.8090377 , 0.8097531 ],\n",
              "        [0.816103  , 0.82355086, 0.81016066, 0.80911821, 0.80875322],\n",
              "        [0.81823348, 0.82244929, 0.80629584, 0.81463985, 0.81065821],\n",
              "        [0.8193436 , 0.82121366, 0.8089017 , 0.81329004, 0.81351445],\n",
              "        [0.81845219, 0.82066355, 0.80902804, 0.81332522, 0.81110299],\n",
              "        [0.81722489, 0.82044278, 0.81000723, 0.81545115, 0.81277155],\n",
              "        [0.81600327, 0.81999818, 0.81074664, 0.81466752, 0.81122506],\n",
              "        [0.81502733, 0.81934066, 0.80880631, 0.81409215, 0.81266048],\n",
              "        [0.81446559, 0.82143945, 0.80567859, 0.81300036, 0.81320117],\n",
              "        [0.81166629, 0.82099273, 0.80601587, 0.81199243, 0.81222054],\n",
              "        [0.8123389 , 0.82044621, 0.80483785, 0.81120225, 0.8104702 ],\n",
              "        [0.81193508, 0.82066355, 0.80326397, 0.81297726, 0.81001712],\n",
              "        [0.80744452, 0.82244459, 0.80401208, 0.8137555 , 0.80904785]]))"
            ]
          },
          "metadata": {
            "tags": []
          },
          "execution_count": 49
        }
      ]
    },
    {
      "cell_type": "code",
      "metadata": {
        "id": "iowvjttiW3kE",
        "colab_type": "code",
        "colab": {
          "base_uri": "https://localhost:8080/",
          "height": 518
        },
        "outputId": "0e2c4ecf-ce59-4648-e2ad-37abaaaf445b"
      },
      "source": [
        "plot_validation_curve(X_train, y_train, 'learning_rate', [1e-3, 1e-2, 1e-1, 1, 10], \n",
        "                      fig_name=\"max_depth_vc.png\", xscale=\"log\", scorer=lambda a, x, y: get_f1_score(a, x, y))"
      ],
      "execution_count": 50,
      "outputs": [
        {
          "output_type": "stream",
          "text": [
            "[Parallel(n_jobs=-1)]: Using backend LokyBackend with 2 concurrent workers.\n",
            "[Parallel(n_jobs=-1)]: Done  13 out of  25 | elapsed:   31.8s remaining:   29.4s\n",
            "[Parallel(n_jobs=-1)]: Done  25 out of  25 | elapsed:   56.1s finished\n"
          ],
          "name": "stderr"
        },
        {
          "output_type": "display_data",
          "data": {
            "image/png": "[encoded data removed]",
            "text/plain": [
              "<Figure size 432x288 with 1 Axes>"
            ]
          },
          "metadata": {
            "tags": [],
            "needs_background": "light"
          }
        },
        {
          "output_type": "execute_result",
          "data": {
            "text/plain": [
              "(array([[0.71611065, 0.71352403, 0.71696945, 0.71668696, 0.71987279],\n",
              "        [0.7459645 , 0.74138729, 0.74621863, 0.74492008, 0.74820015],\n",
              "        [0.77048169, 0.76678781, 0.77060372, 0.76679605, 0.76957727],\n",
              "        [0.80920844, 0.81646195, 0.81908659, 0.81539827, 0.81805274],\n",
              "        [0.33178741, 0.32799894, 0.331069  , 0.33204262, 0.32941998]]),\n",
              " array([[0.71871019, 0.72913673, 0.71528312, 0.71638962, 0.70374389],\n",
              "        [0.74265923, 0.76121948, 0.74188778, 0.74706525, 0.73380306],\n",
              "        [0.76324467, 0.77557025, 0.76679406, 0.76724066, 0.7631524 ],\n",
              "        [0.80798166, 0.81956598, 0.80934166, 0.80434585, 0.80591738],\n",
              "        [0.32725537, 0.34091933, 0.33012877, 0.32624117, 0.32476846]]))"
            ]
          },
          "metadata": {
            "tags": []
          },
          "execution_count": 50
        }
      ]
    },
    {
      "cell_type": "code",
      "metadata": {
        "id": "ms73yD0Ib8Eb",
        "colab_type": "code",
        "colab": {
          "base_uri": "https://localhost:8080/",
          "height": 34
        },
        "outputId": "e2b79c18-1b64-42f5-9021-3b37311ae09f"
      },
      "source": [
        "boost = boost_train(X_train, y_train, n=100, learning_rate=1)\n",
        "get_f1_score(boost, X_test, y_test)"
      ],
      "execution_count": 51,
      "outputs": [
        {
          "output_type": "execute_result",
          "data": {
            "text/plain": [
              "0.8129654966747526"
            ]
          },
          "metadata": {
            "tags": []
          },
          "execution_count": 51
        }
      ]
    },
    {
      "cell_type": "code",
      "metadata": {
        "id": "JBHOKWcjcFbr",
        "colab_type": "code",
        "colab": {
          "base_uri": "https://localhost:8080/",
          "height": 279
        },
        "outputId": "9eec3be1-0f4e-436a-8dad-4b01d3b70427"
      },
      "source": [
        "ax = plot_confusion_matrix(boost, X_test, y_test,\n",
        "                                 display_labels=['<=50K',\n",
        "                                 '>50K'],cmap=plt.cm.Blues, values_format='d')\n",
        "plt.show()"
      ],
      "execution_count": 53,
      "outputs": [
        {
          "output_type": "display_data",
          "data": {
            "image/png": "[encoded data removed]",
            "text/plain": [
              "<Figure size 432x288 with 2 Axes>"
            ]
          },
          "metadata": {
            "tags": [],
            "needs_background": "light"
          }
        }
      ]
    }
  ]
}